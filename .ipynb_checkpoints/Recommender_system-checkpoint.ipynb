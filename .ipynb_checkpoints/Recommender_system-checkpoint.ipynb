{
 "cells": [
  {
   "cell_type": "code",
   "execution_count": 1,
   "metadata": {
    "collapsed": true
   },
   "outputs": [],
   "source": [
    "import numpy as np\n",
    "import matplotlib.pyplot as plt\n",
    "import csv\n",
    "%matplotlib inline\n",
    "n_users = 943\n",
    "n_movies = 1682"
   ]
  },
  {
   "cell_type": "code",
   "execution_count": 2,
   "metadata": {
    "collapsed": true
   },
   "outputs": [],
   "source": [
    "# Fonction de coût\n",
    "def Cost(y, r, theta, x, rg) :\n",
    "    n_r = r[np.nonzero(r)].size\n",
    "    error = (0.5/n_r)*np.einsum('ij,ji->', r*(np.dot(theta,x.T)-y), (r*(np.dot(theta,x.T)-y)).T)\n",
    "    return error + (0.5*rg/n_r)*np.einsum('ij,ji->', theta, theta.T) + (0.5*rg/n_r)*np.einsum('ij,ji->', x, x.T)\n",
    "\n",
    "# Méthode du gradient\n",
    "def GradientDescent(y, r, theta, x, al, rg, eps, max_it):\n",
    "    n_r = r[np.nonzero(r)].size\n",
    "    j = Cost(y, r, theta, x, rg)\n",
    "    j_hist = [j]\n",
    "    j_old = j + 10*eps\n",
    "    iter_n=0\n",
    "    while abs(j-j_old) > eps :\n",
    "        j_old = j\n",
    "        Grad_X = (1.0/n_r)*np.dot((r*(np.dot(theta,x.T)-y)).T,theta) + (rg/n_r)*x\n",
    "        Grad_Theta = (1.0/n_r)*np.dot(r*(np.dot(theta,x.T)-y),x) + (rg/n_r)*theta\n",
    "        x = x - alpha*Grad_X\n",
    "        theta = theta - alpha*Grad_Theta\n",
    "        j = Cost(y, r, theta, x, rg)\n",
    "        j_hist.append(j)\n",
    "        iter_n=iter_n+1\n",
    "        if iter_n==max_it :\n",
    "            print \"max_iter at limit\"\n",
    "            break\n",
    "    plt.plot(j_hist)\n",
    "    plt.ylabel(\"Fonction de cout\")\n",
    "    plt.xlabel(\"nb iterations\")\n",
    "    plt.show()\n",
    "    print \"n_iter = \" + repr(iter_n)\n",
    "    print \"coût à la convergence :\" + repr(j_hist[-1])\n",
    "    return [x,theta,iter_n,j_hist[-1]]"
   ]
  },
  {
   "cell_type": "code",
   "execution_count": 3,
   "metadata": {
    "collapsed": false
   },
   "outputs": [
    {
     "name": "stdout",
     "output_type": "stream",
     "text": [
      "Taille du training set : 80000\n"
     ]
    }
   ],
   "source": [
    "# Training set\n",
    "# Tableau répertoriant les notes données par les utilisateurs : user_id / movie_id / rating / timestamp\n",
    "ratings = np.genfromtxt(\"ml-100k/u1.base\", delimiter=\"\t\", dtype=np.int)\n",
    "n_ratings = ratings.shape[0]\n",
    "# Y(i,j) : note (de 1 à 5) donnée par l'utilisateur i au film j (0 par défaut si pas de note)\n",
    "# R(i,j) : 1 si l'utilisateur i a noté le film j (0 sinon)\n",
    "Y = np.zeros((n_users,n_movies),np.float64)\n",
    "R = np.zeros((n_users,n_movies))\n",
    "for i in range(ratings.shape[0]):\n",
    "    Y[ratings[i][0]-1][ratings[i][1]-1] = ratings[i][2]\n",
    "    R[ratings[i][0]-1][ratings[i][1]-1] = 1\n",
    "print \"Taille du training set : \" + repr(n_ratings)"
   ]
  },
  {
   "cell_type": "code",
   "execution_count": 4,
   "metadata": {
    "collapsed": false
   },
   "outputs": [],
   "source": [
    "# Normalisation des notes : Y_norm(n_users,n_movies) et Y_mean(n_movies)\n",
    "# Y_norm(i,j) = déviation de la note donnée par l'utilisateur i au film j, par rapport à la note moyenne donnée au film j\n",
    "# (reste 0 si pas de note --> on prédira la valeur moyenne)\n",
    "# Y_mean(j) = note moyenne donnée au film j par l'ensemble des utilisateurs\n",
    "Y_norm = np.zeros(Y.shape)\n",
    "Y_mean = np.zeros(Y.shape[1])\n",
    "for j in range(Y.shape[1]):\n",
    "    if Y[np.nonzero(Y[:,j]),j].size==0: # Films non notés dans le training set, on met leur note moyenne à zéro\n",
    "        # Remarque : les critères x de ces films seront à 0 après entrainement, car seule leur régularisation joue dans J\n",
    "        # --> On prédira toujours une note 0 pour ces films, quel que soit l'utilisateur\n",
    "        # (ceci revient à ne pas recommander un film qui n'a jamais été noté)\n",
    "        Y_mean[j] = 0\n",
    "    else :\n",
    "        Y_mean[j] = np.mean(Y[np.nonzero(Y[:,j]),j])\n",
    "        Y_norm[np.nonzero(Y[:,j]),j] = Y[np.nonzero(Y[:,j]),j] - Y_mean[j]"
   ]
  },
  {
   "cell_type": "code",
   "execution_count": 5,
   "metadata": {
    "collapsed": false
   },
   "outputs": [
    {
     "name": "stdout",
     "output_type": "stream",
     "text": [
      "Taille du test set : 20000\n"
     ]
    }
   ],
   "source": [
    "# Test set\n",
    "# Tableau répertoriant les notes données par les utilisateurs : user_id / movie_id / rating / timestamp\n",
    "ratings_test = np.genfromtxt(\"ml-100k/u1.test\", delimiter=\"\t\", dtype=np.int)\n",
    "n_ratings_test = ratings_test.shape[0]\n",
    "# Y_test(i,j) : note (de 1 à 5) donnée par l'utilisateur i au film j (0 par défaut si pas de note)\n",
    "# R_test(i,j) : 1 si l'utilisateur i a noté le film j (0 sinon)\n",
    "Y_test = np.zeros((n_users,n_movies),np.float64)\n",
    "R_test = np.zeros((n_users,n_movies))\n",
    "for i in range(ratings_test.shape[0]):\n",
    "    Y_test[ratings_test[i][0]-1][ratings_test[i][1]-1] = ratings_test[i][2]\n",
    "    R_test[ratings_test[i][0]-1][ratings_test[i][1]-1] = 1\n",
    "print \"Taille du test set : \" + repr(n_ratings_test)"
   ]
  },
  {
   "cell_type": "code",
   "execution_count": 6,
   "metadata": {
    "collapsed": false
   },
   "outputs": [],
   "source": [
    "# Normalisation des notes : Y_test_norm(n_users,n_movies) et Y_test_mean(n_movies)\n",
    "# Y_test_norm(i,j) = déviation de la note donnée par l'utilisateur i au film j, par rapport à la note moyenne donnée au film j\n",
    "# (reste 0 si pas de note --> on prédira la valeur moyenne)\n",
    "# Y_test_mean(j) = note moyenne donnée au film j par l'ensemble des utilisateurs\n",
    "Y_test_norm = np.zeros(Y_test.shape)\n",
    "Y_test_mean = np.zeros(Y_test.shape[1])\n",
    "for j in range(Y_test.shape[1]):\n",
    "    if Y_test[np.nonzero(Y_test[:,j]),j].size==0: # Films non notés dans le test set, on met leur note moyenne à zéro\n",
    "        # Remarque : les critères x de ces films seront à 0 après entrainement, car seule leur régularisation joue dans J\n",
    "        # --> On prédira toujours une note 0 pour ces films, quel que soit l'utilisateur\n",
    "        # (ceci revient à ne pas recommander un film qui n'a jamais été noté)\n",
    "        Y_test_mean[j] = 0\n",
    "    else :\n",
    "        Y_test_mean[j] = np.mean(Y_test[np.nonzero(Y_test[:,j]),j])\n",
    "        Y_test_norm[np.nonzero(Y_test[:,j]),j] = Y_test[np.nonzero(Y_test[:,j]),j] - Y_test_mean[j]"
   ]
  },
  {
   "cell_type": "code",
   "execution_count": 7,
   "metadata": {
    "collapsed": false
   },
   "outputs": [
    {
     "name": "stdout",
     "output_type": "stream",
     "text": [
      "alpha = 100.0\n"
     ]
    },
    {
     "data": {
      "image/png": "[encoded data removed]",
      "text/plain": [
       "<matplotlib.figure.Figure at 0x10639a510>"
      ]
     },
     "metadata": {},
     "output_type": "display_data"
    },
    {
     "name": "stdout",
     "output_type": "stream",
     "text": [
      "n_iter = 91\n",
      "coût à la convergence :0.3504668237652373\n",
      "-------------------------\n",
      "alpha = 200.0\n"
     ]
    },
    {
     "data": {
      "image/png": "[encoded data removed]",
      "text/plain": [
       "<matplotlib.figure.Figure at 0x107739c50>"
      ]
     },
     "metadata": {},
     "output_type": "display_data"
    },
    {
     "name": "stdout",
     "output_type": "stream",
     "text": [
      "n_iter = 84\n",
      "coût à la convergence :0.29552717521496319\n",
      "-------------------------\n",
      "alpha = 300.0\n"
     ]
    },
    {
     "data": {
      "image/png": "[encoded data removed]",
      "text/plain": [
       "<matplotlib.figure.Figure at 0x1072b9490>"
      ]
     },
     "metadata": {},
     "output_type": "display_data"
    },
    {
     "name": "stdout",
     "output_type": "stream",
     "text": [
      "n_iter = 85\n",
      "coût à la convergence :0.25380527956858595\n",
      "-------------------------\n",
      "alpha = 400.0\n"
     ]
    },
    {
     "data": {
      "image/png": "[encoded data removed]",
      "text/plain": [
       "<matplotlib.figure.Figure at 0x1077a4450>"
      ]
     },
     "metadata": {},
     "output_type": "display_data"
    },
    {
     "name": "stdout",
     "output_type": "stream",
     "text": [
      "n_iter = 78\n",
      "coût à la convergence :0.22699130504301956\n",
      "-------------------------\n",
      "alpha = 500.0\n"
     ]
    },
    {
     "name": "stderr",
     "output_type": "stream",
     "text": [
      "/anaconda/lib/python2.7/site-packages/IPython/kernel/__main__.py:5: RuntimeWarning: invalid value encountered in double_scalars\n"
     ]
    },
    {
     "data": {
      "image/png": "[encoded data removed]",
      "text/plain": [
       "<matplotlib.figure.Figure at 0x10639a490>"
      ]
     },
     "metadata": {},
     "output_type": "display_data"
    },
    {
     "name": "stdout",
     "output_type": "stream",
     "text": [
      "n_iter = 9\n",
      "coût à la convergence :nan\n",
      "-------------------------\n",
      "alpha = 600.0\n"
     ]
    },
    {
     "data": {
      "image/png": "[encoded data removed]",
      "text/plain": [
       "<matplotlib.figure.Figure at 0x1006f9f90>"
      ]
     },
     "metadata": {},
     "output_type": "display_data"
    },
    {
     "name": "stdout",
     "output_type": "stream",
     "text": [
      "n_iter = 8\n",
      "coût à la convergence :nan\n",
      "-------------------------\n",
      "alpha = 700.0\n"
     ]
    },
    {
     "data": {
      "image/png": "[encoded data removed]",
      "text/plain": [
       "<matplotlib.figure.Figure at 0x108340350>"
      ]
     },
     "metadata": {},
     "output_type": "display_data"
    },
    {
     "name": "stdout",
     "output_type": "stream",
     "text": [
      "n_iter = 7\n",
      "coût à la convergence :nan\n",
      "-------------------------\n",
      "alpha = 800.0\n"
     ]
    },
    {
     "data": {
      "image/png": "[encoded data removed]",
      "text/plain": [
       "<matplotlib.figure.Figure at 0x10767a4d0>"
      ]
     },
     "metadata": {},
     "output_type": "display_data"
    },
    {
     "name": "stdout",
     "output_type": "stream",
     "text": [
      "n_iter = 7\n",
      "coût à la convergence :nan\n",
      "-------------------------\n"
     ]
    }
   ],
   "source": [
    "# Choix du meilleur alpha pour la méthode du gradient\n",
    "\n",
    "# Nombre de critères\n",
    "n_features = 20\n",
    "# Paramètre de régularisation\n",
    "reg = 0.0\n",
    "# Condition de convergence\n",
    "epsilon = 0.001\n",
    "# Nombre maximal d'itération\n",
    "max_iter = 100\n",
    "\n",
    "alpha_values = [100.0,200.0,300.0,400.0,500.0,600.0,700.0,800.0]\n",
    "iter_nb = []\n",
    "J_last = []\n",
    "for alpha in alpha_values :\n",
    "    X = np.random.randn(n_movies,n_features)\n",
    "    Theta = np.random.randn(n_users,n_features)\n",
    "    print \"alpha = \" + repr(alpha)\n",
    "    [X, Theta, a, b] = GradientDescent(Y_norm, R, Theta, X, alpha, reg, epsilon, max_iter)\n",
    "    iter_nb.append(a)\n",
    "    J_last.append(b)\n",
    "    print \"-------------------------\""
   ]
  },
  {
   "cell_type": "code",
   "execution_count": 8,
   "metadata": {
    "collapsed": false
   },
   "outputs": [
    {
     "data": {
      "image/png": "[encoded data removed]",
      "text/plain": [
       "<matplotlib.figure.Figure at 0x10638be50>"
      ]
     },
     "metadata": {},
     "output_type": "display_data"
    },
    {
     "data": {
      "image/png": "[encoded data removed]",
      "text/plain": [
       "<matplotlib.figure.Figure at 0x1088b7e10>"
      ]
     },
     "metadata": {},
     "output_type": "display_data"
    }
   ],
   "source": [
    "# Nombre d'itérations pour la minimisation, et cout à la convergence en fonction de alpha\n",
    "plt.plot(alpha_values,iter_nb)\n",
    "plt.ylabel(\"nb iterations\")\n",
    "plt.xlabel(\"alpha\")\n",
    "plt.show()\n",
    "\n",
    "plt.plot(alpha_values,J_last)\n",
    "plt.ylabel(\"cout a la convergence\")\n",
    "plt.xlabel(\"alpha\")\n",
    "plt.show()"
   ]
  },
  {
   "cell_type": "code",
   "execution_count": 9,
   "metadata": {
    "collapsed": false,
    "scrolled": false
   },
   "outputs": [
    {
     "name": "stdout",
     "output_type": "stream",
     "text": [
      "n_features = 10\n"
     ]
    },
    {
     "data": {
      "image/png": "[encoded data removed]",
      "text/plain": [
       "<matplotlib.figure.Figure at 0x1076e3950>"
      ]
     },
     "metadata": {},
     "output_type": "display_data"
    },
    {
     "name": "stdout",
     "output_type": "stream",
     "text": [
      "n_iter = 78\n",
      "coût à la convergence :0.32493618639098804\n",
      "-------------------------\n",
      "n_features = 20\n"
     ]
    },
    {
     "data": {
      "image/png": "[encoded data removed]",
      "text/plain": [
       "<matplotlib.figure.Figure at 0x10875da10>"
      ]
     },
     "metadata": {},
     "output_type": "display_data"
    },
    {
     "name": "stdout",
     "output_type": "stream",
     "text": [
      "n_iter = 85\n",
      "coût à la convergence :0.25952371878002795\n",
      "-------------------------\n",
      "n_features = 30\n"
     ]
    },
    {
     "data": {
      "image/png": "[encoded data removed]",
      "text/plain": [
       "<matplotlib.figure.Figure at 0x10f9db950>"
      ]
     },
     "metadata": {},
     "output_type": "display_data"
    },
    {
     "name": "stdout",
     "output_type": "stream",
     "text": [
      "n_iter = 85\n",
      "coût à la convergence :0.2119818627766682\n",
      "-------------------------\n",
      "n_features = 40\n"
     ]
    },
    {
     "data": {
      "image/png": "[encoded data removed]",
      "text/plain": [
       "<matplotlib.figure.Figure at 0x10efe2b10>"
      ]
     },
     "metadata": {},
     "output_type": "display_data"
    },
    {
     "name": "stdout",
     "output_type": "stream",
     "text": [
      "n_iter = 89\n",
      "coût à la convergence :0.17332808381638592\n",
      "-------------------------\n",
      "n_features = 50\n"
     ]
    },
    {
     "data": {
      "image/png": "[encoded data removed]",
      "text/plain": [
       "<matplotlib.figure.Figure at 0x10fe501d0>"
      ]
     },
     "metadata": {},
     "output_type": "display_data"
    },
    {
     "name": "stdout",
     "output_type": "stream",
     "text": [
      "n_iter = 32\n",
      "coût à la convergence :0.2470018698179309\n",
      "-------------------------\n",
      "n_features = 60\n"
     ]
    },
    {
     "data": {
      "image/png": "[encoded data removed]",
      "text/plain": [
       "<matplotlib.figure.Figure at 0x107750c90>"
      ]
     },
     "metadata": {},
     "output_type": "display_data"
    },
    {
     "name": "stdout",
     "output_type": "stream",
     "text": [
      "n_iter = 11\n",
      "coût à la convergence :0.39603783714389035\n",
      "-------------------------\n"
     ]
    }
   ],
   "source": [
    "# Choix de n_features (en changeant n_features pour voir si J_last change)\n",
    "\n",
    "# Nombre de critères\n",
    "n_features_values = [10,20,30,40,50,60]\n",
    "# Learning rate\n",
    "alpha = 300.0\n",
    "# Paramètre de régularisation\n",
    "reg = 0.0\n",
    "# Condition de convergence\n",
    "epsilon = 0.001\n",
    "# Nombre maximal d'itération\n",
    "max_iter = 100\n",
    "\n",
    "iter_nb = []\n",
    "J_last = []\n",
    "for n_features in n_features_values :\n",
    "    X = np.random.randn(n_movies,n_features)\n",
    "    Theta = np.random.randn(n_users,n_features)\n",
    "    print \"n_features = \" + repr(n_features)\n",
    "    [X, Theta, a, b] = GradientDescent(Y_norm, R, Theta, X, alpha, reg, epsilon, max_iter)\n",
    "    iter_nb.append(a)\n",
    "    J_last.append(b)\n",
    "    print \"-------------------------\""
   ]
  },
  {
   "cell_type": "code",
   "execution_count": 10,
   "metadata": {
    "collapsed": false
   },
   "outputs": [
    {
     "data": {
      "image/png": "[encoded data removed]",
      "text/plain": [
       "<matplotlib.figure.Figure at 0x107511950>"
      ]
     },
     "metadata": {},
     "output_type": "display_data"
    },
    {
     "data": {
      "image/png": "[encoded data removed]",
      "text/plain": [
       "<matplotlib.figure.Figure at 0x10f9d7490>"
      ]
     },
     "metadata": {},
     "output_type": "display_data"
    }
   ],
   "source": [
    "# Nombre d'itérations pour la minimisation et cout à la convergence en fonction de n_features\n",
    "plt.plot(n_features_values,iter_nb)\n",
    "plt.ylabel(\"nb iterations\")\n",
    "plt.xlabel(\"nb criteres\")\n",
    "plt.show()\n",
    "\n",
    "plt.plot(n_features_values,J_last)\n",
    "plt.ylabel(\"cout a la convergence\")\n",
    "plt.xlabel(\"nb criteres\")\n",
    "plt.show()"
   ]
  },
  {
   "cell_type": "code",
   "execution_count": 11,
   "metadata": {
    "collapsed": false
   },
   "outputs": [
    {
     "name": "stdout",
     "output_type": "stream",
     "text": [
      "alpha = 100.0\n"
     ]
    },
    {
     "data": {
      "image/png": "[encoded data removed]",
      "text/plain": [
       "<matplotlib.figure.Figure at 0x108740150>"
      ]
     },
     "metadata": {},
     "output_type": "display_data"
    },
    {
     "name": "stdout",
     "output_type": "stream",
     "text": [
      "n_iter = 93\n",
      "coût à la convergence :0.26426100208788561\n",
      "-------------------------\n",
      "alpha = 200.0\n"
     ]
    },
    {
     "data": {
      "image/png": "[encoded data removed]",
      "text/plain": [
       "<matplotlib.figure.Figure at 0x107fb5050>"
      ]
     },
     "metadata": {},
     "output_type": "display_data"
    },
    {
     "name": "stdout",
     "output_type": "stream",
     "text": [
      "n_iter = 84\n",
      "coût à la convergence :0.21207575944947898\n",
      "-------------------------\n",
      "alpha = 300.0\n"
     ]
    },
    {
     "data": {
      "image/png": "[encoded data removed]",
      "text/plain": [
       "<matplotlib.figure.Figure at 0x1072e5a90>"
      ]
     },
     "metadata": {},
     "output_type": "display_data"
    },
    {
     "name": "stdout",
     "output_type": "stream",
     "text": [
      "n_iter = 86\n",
      "coût à la convergence :0.16977649853796029\n",
      "-------------------------\n",
      "alpha = 400.0\n"
     ]
    },
    {
     "data": {
      "image/png": "[encoded data removed]",
      "text/plain": [
       "<matplotlib.figure.Figure at 0x1087b8890>"
      ]
     },
     "metadata": {},
     "output_type": "display_data"
    },
    {
     "name": "stdout",
     "output_type": "stream",
     "text": [
      "n_iter = 29\n",
      "coût à la convergence :0.25337711074118008\n",
      "-------------------------\n",
      "alpha = 500.0\n"
     ]
    },
    {
     "name": "stderr",
     "output_type": "stream",
     "text": [
      "/anaconda/lib/python2.7/site-packages/IPython/kernel/__main__.py:5: RuntimeWarning: invalid value encountered in double_scalars\n"
     ]
    },
    {
     "data": {
      "image/png": "[encoded data removed]",
      "text/plain": [
       "<matplotlib.figure.Figure at 0x100703790>"
      ]
     },
     "metadata": {},
     "output_type": "display_data"
    },
    {
     "name": "stdout",
     "output_type": "stream",
     "text": [
      "n_iter = 8\n",
      "coût à la convergence :nan\n",
      "-------------------------\n",
      "alpha = 600.0\n"
     ]
    },
    {
     "data": {
      "image/png": "[encoded data removed]",
      "text/plain": [
       "<matplotlib.figure.Figure at 0x10833cdd0>"
      ]
     },
     "metadata": {},
     "output_type": "display_data"
    },
    {
     "name": "stdout",
     "output_type": "stream",
     "text": [
      "n_iter = 7\n",
      "coût à la convergence :nan\n",
      "-------------------------\n",
      "alpha = 700.0\n"
     ]
    },
    {
     "data": {
      "image/png": "[encoded data removed]",
      "text/plain": [
       "<matplotlib.figure.Figure at 0x107c9ebd0>"
      ]
     },
     "metadata": {},
     "output_type": "display_data"
    },
    {
     "name": "stdout",
     "output_type": "stream",
     "text": [
      "n_iter = 7\n",
      "coût à la convergence :nan\n",
      "-------------------------\n",
      "alpha = 800.0\n"
     ]
    },
    {
     "data": {
      "image/png": "[encoded data removed]",
      "text/plain": [
       "<matplotlib.figure.Figure at 0x10832ce10>"
      ]
     },
     "metadata": {},
     "output_type": "display_data"
    },
    {
     "name": "stdout",
     "output_type": "stream",
     "text": [
      "n_iter = 7\n",
      "coût à la convergence :nan\n",
      "-------------------------\n"
     ]
    }
   ],
   "source": [
    "# Vérification du alpha avec la meilleure valeur de n_features\n",
    "\n",
    "# Nombre de critères\n",
    "n_features = 40\n",
    "# Paramètre de régularisation\n",
    "reg = 0.0\n",
    "# Condition de convergence\n",
    "epsilon = 0.001\n",
    "# Nombre maximal d'itération\n",
    "max_iter = 100\n",
    "\n",
    "alpha_values = [100.0,200.0,300.0,400.0,500.0,600.0,700.0,800.0]\n",
    "iter_nb = []\n",
    "J_last = []\n",
    "for alpha in alpha_values :\n",
    "    X = np.random.randn(n_movies,n_features)\n",
    "    Theta = np.random.randn(n_users,n_features)\n",
    "    print \"alpha = \" + repr(alpha)\n",
    "    [X, Theta, a, b] = GradientDescent(Y_norm, R, Theta, X, alpha, reg, epsilon, max_iter)\n",
    "    iter_nb.append(a)\n",
    "    J_last.append(b)\n",
    "    print \"-------------------------\""
   ]
  },
  {
   "cell_type": "code",
   "execution_count": 12,
   "metadata": {
    "collapsed": false
   },
   "outputs": [
    {
     "data": {
      "image/png": "[encoded data removed]",
      "text/plain": [
       "<matplotlib.figure.Figure at 0x1087c2150>"
      ]
     },
     "metadata": {},
     "output_type": "display_data"
    },
    {
     "data": {
      "image/png": "[encoded data removed]",
      "text/plain": [
       "<matplotlib.figure.Figure at 0x1088cba90>"
      ]
     },
     "metadata": {},
     "output_type": "display_data"
    }
   ],
   "source": [
    "plt.plot(alpha_values,iter_nb)\n",
    "plt.ylabel(\"nb iterations\")\n",
    "plt.xlabel(\"alpha\")\n",
    "plt.show()\n",
    "\n",
    "plt.plot(alpha_values,J_last)\n",
    "plt.ylabel(\"cout a la convergence\")\n",
    "plt.xlabel(\"alpha\")\n",
    "plt.show()"
   ]
  },
  {
   "cell_type": "code",
   "execution_count": 27,
   "metadata": {
    "collapsed": false
   },
   "outputs": [
    {
     "name": "stdout",
     "output_type": "stream",
     "text": [
      "reg = 2.0\n"
     ]
    },
    {
     "data": {
      "image/png": "[encoded data removed]",
      "text/plain": [
       "<matplotlib.figure.Figure at 0x10fe66e50>"
      ]
     },
     "metadata": {},
     "output_type": "display_data"
    },
    {
     "name": "stdout",
     "output_type": "stream",
     "text": [
      "n_iter = 169\n",
      "coût à la convergence :0.22692609345330411\n",
      "-------------------------\n",
      "reg = 5.0\n"
     ]
    },
    {
     "data": {
      "image/png": "[encoded data removed]",
      "text/plain": [
       "<matplotlib.figure.Figure at 0x10efb3f90>"
      ]
     },
     "metadata": {},
     "output_type": "display_data"
    },
    {
     "name": "stdout",
     "output_type": "stream",
     "text": [
      "n_iter = 119\n",
      "coût à la convergence :0.29953002303441512\n",
      "-------------------------\n",
      "reg = 10.0\n"
     ]
    },
    {
     "data": {
      "image/png": "[encoded data removed]",
      "text/plain": [
       "<matplotlib.figure.Figure at 0x108943510>"
      ]
     },
     "metadata": {},
     "output_type": "display_data"
    },
    {
     "name": "stdout",
     "output_type": "stream",
     "text": [
      "n_iter = 80\n",
      "coût à la convergence :0.39225837746741565\n",
      "-------------------------\n",
      "reg = 15.0\n"
     ]
    },
    {
     "data": {
      "image/png": "[encoded data removed]",
      "text/plain": [
       "<matplotlib.figure.Figure at 0x107de9bd0>"
      ]
     },
     "metadata": {},
     "output_type": "display_data"
    },
    {
     "name": "stdout",
     "output_type": "stream",
     "text": [
      "n_iter = 61\n",
      "coût à la convergence :0.44330396941783834\n",
      "-------------------------\n",
      "reg = 20.0\n"
     ]
    },
    {
     "data": {
      "image/png": "[encoded data removed]",
      "text/plain": [
       "<matplotlib.figure.Figure at 0x10890d6d0>"
      ]
     },
     "metadata": {},
     "output_type": "display_data"
    },
    {
     "name": "stdout",
     "output_type": "stream",
     "text": [
      "n_iter = 49\n",
      "coût à la convergence :0.46796626633216243\n",
      "-------------------------\n",
      "reg = 25.0\n"
     ]
    },
    {
     "data": {
      "image/png": "[encoded data removed]",
      "text/plain": [
       "<matplotlib.figure.Figure at 0x107f65bd0>"
      ]
     },
     "metadata": {},
     "output_type": "display_data"
    },
    {
     "name": "stdout",
     "output_type": "stream",
     "text": [
      "n_iter = 42\n",
      "coût à la convergence :0.4794753714169222\n",
      "-------------------------\n",
      "reg = 30.0\n"
     ]
    },
    {
     "data": {
      "image/png": "[encoded data removed]",
      "text/plain": [
       "<matplotlib.figure.Figure at 0x107fbda10>"
      ]
     },
     "metadata": {},
     "output_type": "display_data"
    },
    {
     "name": "stdout",
     "output_type": "stream",
     "text": [
      "n_iter = 36\n",
      "coût à la convergence :0.48663640598588376\n",
      "-------------------------\n",
      "reg = 35.0\n"
     ]
    },
    {
     "data": {
      "image/png": "[encoded data removed]",
      "text/plain": [
       "<matplotlib.figure.Figure at 0x10747c690>"
      ]
     },
     "metadata": {},
     "output_type": "display_data"
    },
    {
     "name": "stdout",
     "output_type": "stream",
     "text": [
      "n_iter = 32\n",
      "coût à la convergence :0.49101586082830234\n",
      "-------------------------\n"
     ]
    }
   ],
   "source": [
    "# Choix du paramètre de régularisation\n",
    "\n",
    "# Nombre de critères\n",
    "n_features = 40\n",
    "# Learning rate\n",
    "alpha = 300.0\n",
    "# Condition de convergence\n",
    "epsilon = 0.001\n",
    "# Nombre maximal d'itération\n",
    "max_iter = 200\n",
    "\n",
    "# Paramètre de régularisation\n",
    "reg_values = [2.0,5.0,10.0,15.0,20.0,25.0,30.0,35.0]\n",
    "iter_nb = []\n",
    "J_train = []\n",
    "J_test = []\n",
    "for reg in reg_values :\n",
    "    X = np.random.randn(n_movies,n_features)\n",
    "    Theta = np.random.randn(n_users,n_features)\n",
    "    print \"reg = \" + repr(reg)\n",
    "    [X, Theta, a, b] = GradientDescent(Y_norm, R, Theta, X, alpha, reg, epsilon, max_iter) # Entrainement training set avec régularisation\n",
    "    iter_nb.append(a)\n",
    "    J_train.append(Cost(Y_norm, R, Theta, X, 0.0)) # Cout (sans les paramètres de régularisation)\n",
    "    J_test.append(Cost(Y_test_norm, R_test, Theta, X, 0.0)) # Evaluation du coût sur le test set (sans régularisation)\n",
    "    print \"-------------------------\""
   ]
  },
  {
   "cell_type": "code",
   "execution_count": 28,
   "metadata": {
    "collapsed": false
   },
   "outputs": [
    {
     "data": {
      "image/png": "[encoded data removed]",
      "text/plain": [
       "<matplotlib.figure.Figure at 0x107f67990>"
      ]
     },
     "metadata": {},
     "output_type": "display_data"
    },
    {
     "data": {
      "image/png": "[encoded data removed]",
      "text/plain": [
       "<matplotlib.figure.Figure at 0x10071e750>"
      ]
     },
     "metadata": {},
     "output_type": "display_data"
    },
    {
     "name": "stdout",
     "output_type": "stream",
     "text": [
      "regularisation : [2.0, 5.0, 10.0, 15.0, 20.0, 25.0, 30.0, 35.0]\n",
      "-------------------------------------\n",
      "cout sur le train set : [0.095063458341610146, 0.14516665559385153, 0.242596268204474, 0.33027385755120653, 0.38772807382714675, 0.42263040733707002, 0.44365496398758841, 0.46090306772161233]\n",
      "-------------------------------------\n",
      "cout sur le test set : [0.6215669566586639, 0.46750506274991077, 0.41758927821409392, 0.4168309504564004, 0.42706199804656464, 0.43917291771070677, 0.44814731369486993, 0.45739130847099069]\n"
     ]
    }
   ],
   "source": [
    "plt.plot(reg_values, J_train, \"b\")\n",
    "plt.ylabel(\"cout\")\n",
    "plt.xlabel(\"parametre de regularisation\")\n",
    "plt.show()\n",
    "\n",
    "plt.plot(reg_values, J_train, \"b\", reg_values, J_test, \"r\")\n",
    "plt.ylabel(\"cout\")\n",
    "plt.xlabel(\"parametre de regularisation\")\n",
    "plt.show()\n",
    "\n",
    "print \"regularisation : \" + repr(reg_values)\n",
    "print \"-------------------------------------\"\n",
    "print \"cout sur le train set : \" + repr(J_train)\n",
    "print \"-------------------------------------\"\n",
    "print \"cout sur le test set : \" + repr(J_test)"
   ]
  },
  {
   "cell_type": "code",
   "execution_count": 4,
   "metadata": {
    "collapsed": false
   },
   "outputs": [
    {
     "name": "stdout",
     "output_type": "stream",
     "text": [
      "Nombre de notes du dataset : 100000\n",
      "Nombre de notes données par le nouvel utilisateur : 76\n",
      "Nombre total de notes : 100076\n",
      "Taille de Y : (944, 1682)\n"
     ]
    },
    {
     "data": {
      "image/png": "[encoded data removed]",
      "text/plain": [
       "<matplotlib.figure.Figure at 0x10672f510>"
      ]
     },
     "metadata": {},
     "output_type": "display_data"
    },
    {
     "name": "stdout",
     "output_type": "stream",
     "text": [
      "n_iter = 70\n",
      "coût à la convergence :0.43324464159077036\n",
      "[1397  113 1593  426  177  356 1448  482  168  317 1652 1499 1121 1200 1466\n",
      " 1292  813 1188 1598 1535]\n",
      "[ 4.52284766  4.52905531  4.52915663  4.54152415  4.57925185  4.58897462\n",
      "  4.59590004  4.64377608  4.65606013  4.68621688  4.97213127  4.97796186\n",
      "  4.9796458   4.99796037  5.00508827  5.01599057  5.01633521  5.03556112\n",
      "  5.05185344  5.05300946]\n",
      "\n",
      "-----------------------------\n",
      "Top 20 des recommandations : \n",
      "-----------------------------\n",
      "Anna (1996)\n",
      "Wallace & Gromit: The Best of Aardman Animation (1996)\n",
      "Everest (1998)\n",
      "To Kill a Mockingbird (1962)\n",
      "12 Angry Men (1957)\n",
      "One Flew Over the Cuckoo's Nest (1975)\n",
      "Pather Panchali (1955)\n",
      "Casablanca (1942)\n",
      "Wrong Trousers, The (1993)\n",
      "Schindler's List (1993)\n",
      "Entertaining Angels: The Dorothy Day Story (1996)\n",
      "Santa with Muscles (1996)\n",
      "They Made Me a Criminal (1939)\n",
      "Marlene Dietrich: Shadow and Light (1996) \n",
      "Saint of Fort Washington, The (1993)\n",
      "Star Kid (1997)\n",
      "Great Day in Harlem, A (1994)\n",
      "Prefontaine (1997)\n",
      "Someone Else's America (1995)\n",
      "Aiqing wansui (1994)\n"
     ]
    }
   ],
   "source": [
    "# Prédictions pour un nouvel utilisateur\n",
    "n_users2 = 944\n",
    "n_movies2 = 1682\n",
    "# Tableau répertoriant les notes données par les utilisateurs : user_id / movie_id / rating / timestamp\n",
    "ratings2 = np.genfromtxt(\"ml-100k/u.data\", delimiter=\"\t\", dtype=np.int)\n",
    "\n",
    "# Notes du nouvel utilisateur\n",
    "ratings_new = np.array([[944,1,5,0],[944,2,4,0],[944,7,5,0],[944,8,3,0],[944,11,5,0],[944,12,5,0],\\\n",
    "                       [944,22,4,0],[944,23,5,0],[944,27,3,0],[944,28,5,0],[944,29,1,0],[944,33,4,0],\\\n",
    "                        [944,47,4,0],[944,50,4,0],[944,56,4,0],[944,62,3,0],[944,64,4,0],[944,67,3,0],\\\n",
    "                        [944,69,5,0],[944,71,5,0],[944,72,3,0],[944,80,2,0],[944,82,5,0],[944,89,5,0],\\\n",
    "                       [944,91,5,0],[944,94,2,0],[944,95,5,0],[944,96,4,0],[944,97,5,0],[944,98,5,0],\\\n",
    "                       [944,100,4,0],[944,102,3,0],[944,117,3,0],[944,118,2,0],[944,121,3,0],[944,127,5,0],\\\n",
    "                       [944,133,4,0],[944,134,2,0],[944,154,4,0],[944,156,3,0],[944,157,4,0],[944,161,4,0],\\\n",
    "                       [944,164,3,0],[944,168,4,0],[944,170,4,0],[944,172,4,0],[944,174,5,0],[944,175,4,0],\\\n",
    "                       [944,176,4,0],[944,177,5,0],[944,179,4,0],[944,180,5,0],[944,181,4,0],[944,182,4,0],\\\n",
    "                       [944,183,5,0],[944,187,5,0],[944,188,5,0],[944,191,5,0],[944,195,3,0],[944,197,4,0],\\\n",
    "                       [944,199,4,0],[944,200,4,0],[944,202,3,0],[944,203,4,0],[944,204,4,0],[944,207,5,0],\\\n",
    "                       [944,101,2,0],[944,226,4,0],[944,249,3,0],[944,254,1,0],[944,259,2,0],[944,271,5,0],\\\n",
    "                       [944,300,3,0],[944,346,3,0],[944,373,3,0],[944,546,2,0],],np.int)\n",
    "\n",
    "print \"Nombre de notes du dataset : \" + repr(ratings2.shape[0])\n",
    "print \"Nombre de notes données par le nouvel utilisateur : \" + repr(ratings_new.shape[0])\n",
    "ratings2 = np.append(ratings2,ratings_new, axis=0)\n",
    "n_ratings2 = ratings2.shape[0]\n",
    "# Y(i,j) : note (de 1 à 5) donnée par l'utilisateur i au film j (0 par défaut si pas de note)\n",
    "# R(i,j) : 1 si l'utilisateur i a noté le film j (0 sinon)\n",
    "Y2 = np.zeros((n_users2,n_movies2),np.float64)\n",
    "R2 = np.zeros((n_users2,n_movies2), np.int)\n",
    "for i in range(ratings2.shape[0]):\n",
    "    Y2[ratings2[i][0]-1][ratings2[i][1]-1] = ratings2[i][2]\n",
    "    R2[ratings2[i][0]-1][ratings2[i][1]-1] = 1\n",
    "\n",
    "print \"Nombre total de notes : \" + repr(n_ratings2)\n",
    "print \"Taille de Y : \" + repr(Y2.shape)\n",
    "\n",
    "# Normalisation des notes : Y_norm(n_users,n_movies) et Y_mean(n_movies)\n",
    "# Y_norm(i,j) = déviation de la note donnée par l'utilisateur i au film j, par rapport à la note moyenne donnée au film j\n",
    "# (reste 0 si pas de note --> on prédira la valeur moyenne)\n",
    "# Y_mean(j) = note moyenne donnée au film j par l'ensemble des utilisateurs\n",
    "Y2_norm = np.zeros(Y2.shape)\n",
    "Y2_mean = np.zeros(Y2.shape[1])\n",
    "for j in range(Y2.shape[1]):\n",
    "    if Y2[np.nonzero(Y2[:,j]),j].size==0: # Films non notés dans le training set, on met leur note moyenne à zéro\n",
    "        # Remarque : les critères x de ces films seront à 0 après entrainement, car seule leur régularisation joue dans J\n",
    "        # --> On prédira toujours une note 0 pour ces films, quel que soit l'utilisateur\n",
    "        # (ceci revient à ne pas recommander un film qui n'a jamais été noté)\n",
    "        Y2_mean[j] = 0\n",
    "    else :\n",
    "        Y2_mean[j] = np.mean(Y2[np.nonzero(Y2[:,j]),j])\n",
    "        Y2_norm[np.nonzero(Y2[:,j]),j] = Y2[np.nonzero(Y2[:,j]),j] - Y2_mean[j]\n",
    "        \n",
    "        \n",
    "# Entrainement\n",
    "\n",
    "# Nombre de critères\n",
    "n_features = 40\n",
    "# Paramètre de régularisation\n",
    "reg = 15.0\n",
    "# Learning rate\n",
    "alpha = 300.0\n",
    "# Condition de convergence\n",
    "epsilon = 0.001\n",
    "# Nombre maximal d'itération\n",
    "max_iter = 200\n",
    "\n",
    "X = np.random.randn(n_movies2,n_features)\n",
    "Theta = np.random.randn(n_users2,n_features)\n",
    "[X, Theta, a, b] = GradientDescent(Y2_norm, R2, Theta, X, alpha, reg, epsilon, max_iter)\n",
    "\n",
    "# Prédictions (notes normalisées)\n",
    "Y2_pred = np.dot(Theta,X.T)\n",
    "# Prédictions (notes de 1 à 5)\n",
    "for i in range(Y2_pred.shape[0]) :\n",
    "    Y2_pred[i,:] = Y2_pred[i,:] + Y2_mean\n",
    "\n",
    "# Recommandations pour le nouvel utilisateur\n",
    "\n",
    "# Ordonne les films par ordre croissant de notes prédites\n",
    "Movies_ord =  Y2_pred[-1,:].argsort() # indices : commencent à 0\n",
    "Rates_ord = Y2_pred[-1,Y2_pred[-1,:].argsort()]\n",
    "Already_viewed = R2[-1,Y2_pred[-1,:].argsort()]\n",
    "\n",
    "# On jette les films qu'il a déjà vus\n",
    "Movies_ord = Movies_ord[Already_viewed==0]\n",
    "Rates_ord = Rates_ord[Already_viewed==0]\n",
    "\n",
    "# Correspondance movie_id / Titre du film\n",
    "Title = [] # 'Toy Story' (movie_id=1) sera à l'indice 0\n",
    "with open('ml-100k/u.item') as csvfile:\n",
    "    reader = csv.reader(csvfile, delimiter='|')\n",
    "    for row in reader:\n",
    "        Title.append(row[1])\n",
    "        \n",
    "print Movies_ord[-20:]\n",
    "print Rates_ord[-20:]\n",
    "print \"\"\n",
    "print \"-----------------------------\"\n",
    "print \"Top 20 des recommandations : \"\n",
    "print \"-----------------------------\"\n",
    "for mov in Movies_ord[-20:] :\n",
    "    print Title[mov]\n",
    "    "
   ]
  },
  {
   "cell_type": "code",
   "execution_count": 5,
   "metadata": {
    "collapsed": false
   },
   "outputs": [
    {
     "name": "stdout",
     "output_type": "stream",
     "text": [
      "\n",
      "-----------------------------\n",
      "Top 20 des recommandations (basées sur les notes moyennes) : \n",
      "-----------------------------\n",
      "Wallace & Gromit: The Best of Aardman Animation (1996)\n",
      "Casablanca (1942)\n",
      "Wrong Trousers, The (1993)\n",
      "Schindler's List (1993)\n",
      "Close Shave, A (1995)\n",
      "Everest (1998)\n",
      "Anna (1996)\n",
      "Maya Lin: A Strong Clear Vision (1994)\n",
      "Some Mother's Son (1996)\n",
      "Pather Panchali (1955)\n",
      "Aiqing wansui (1994)\n",
      "Santa with Muscles (1996)\n",
      "Prefontaine (1997)\n",
      "Marlene Dietrich: Shadow and Light (1996) \n",
      "Someone Else's America (1995)\n",
      "They Made Me a Criminal (1939)\n",
      "Great Day in Harlem, A (1994)\n",
      "Entertaining Angels: The Dorothy Day Story (1996)\n",
      "Saint of Fort Washington, The (1993)\n",
      "Star Kid (1997)\n"
     ]
    }
   ],
   "source": [
    "# Comparaison avec des recommandations basées uniquement sur les notes moyennes\n",
    "\n",
    "# Ordonne les films par ordre croissant de notes moyennes\n",
    "Movies_ord_mean =  Y2_mean.argsort() \n",
    "Rates_ord_mean = Y2_mean[Y2_mean.argsort()]\n",
    "Already_viewed_mean = R2[-1,Y2_mean.argsort()]\n",
    "\n",
    "print \"\"\n",
    "print \"-----------------------------\"\n",
    "print \"Top 20 des recommandations (basées sur les notes moyennes) : \"\n",
    "print \"-----------------------------\"\n",
    "for mov in Movies_ord_mean[-20:] :\n",
    "    print Title[mov]"
   ]
  },
  {
   "cell_type": "code",
   "execution_count": 6,
   "metadata": {
    "collapsed": false
   },
   "outputs": [
    {
     "name": "stdout",
     "output_type": "stream",
     "text": [
      "[[ 5.  5.]]\n",
      "[ 4.44776119  4.45679012  4.46610169  4.46644295  4.49107143  4.5         4.5\n",
      "  4.5         4.5         4.625       5.          5.          5.          5.\n",
      "  5.          5.          5.          5.          5.          5.        ]\n",
      "5.0\n",
      "Toy Story (1995)\n",
      "GoldenEye (1995)\n",
      "Four Rooms (1995)\n",
      "Get Shorty (1995)\n",
      "Copycat (1995)\n",
      "Shanghai Triad (Yao a yao yao dao waipo qiao) (1995)\n",
      "Twelve Monkeys (1995)\n",
      "Babe (1995)\n",
      "Dead Man Walking (1995)\n",
      "Richard III (1995)\n",
      "Seven (Se7en) (1995)\n",
      "Usual Suspects, The (1995)\n",
      "Mighty Aphrodite (1995)\n",
      "Postino, Il (1994)\n",
      "Mr. Holland's Opus (1995)\n",
      "French Twist (Gazon maudit) (1995)\n",
      "From Dusk Till Dawn (1996)\n",
      "Antonia's Line (1995)\n",
      "Angels and Insects (1995)\n",
      "Muppet Treasure Island (1996)\n",
      "Braveheart (1995)\n",
      "Taxi Driver (1976)\n",
      "Rumble in the Bronx (1995)\n",
      "Birdcage, The (1996)\n",
      "Brothers McMullen, The (1995)\n",
      "Bad Boys (1995)\n",
      "Apollo 13 (1995)\n",
      "Batman Forever (1995)\n",
      "Belle de jour (1967)\n",
      "Crimson Tide (1995)\n",
      "Crumb (1994)\n",
      "Desperado (1995)\n",
      "Free Willy 2: The Adventure Home (1995)\n",
      "Mad Love (1995)\n",
      "Net, The (1995)\n",
      "Strange Days (1995)\n",
      "To Wong Foo, Thanks for Everything! Julie Newmar (1995)\n",
      "Billy Madison (1995)\n",
      "Clerks (1994)\n",
      "Disclosure (1994)\n",
      "Dolores Claiborne (1994)\n",
      "Eat Drink Man Woman (1994)\n",
      "Exotica (1994)\n",
      "Ed Wood (1994)\n",
      "Hoop Dreams (1994)\n",
      "I.Q. (1994)\n",
      "Star Wars (1977)\n",
      "Legends of the Fall (1994)\n",
      "Madness of King George, The (1994)\n",
      "Natural Born Killers (1994)\n",
      "Outbreak (1995)\n",
      "Professional, The (1994)\n",
      "Pulp Fiction (1994)\n",
      "Priest (1994)\n",
      "Quiz Show (1994)\n",
      "Three Colors: Red (1994)\n",
      "Three Colors: Blue (1993)\n",
      "Three Colors: White (1994)\n",
      "Stargate (1994)\n",
      "Santa Clause, The (1994)\n",
      "Shawshank Redemption, The (1994)\n",
      "What's Eating Gilbert Grape (1993)\n",
      "While You Were Sleeping (1995)\n",
      "Ace Ventura: Pet Detective (1994)\n",
      "Crow, The (1994)\n",
      "Forrest Gump (1994)\n",
      "Four Weddings and a Funeral (1994)\n",
      "Lion King, The (1994)\n",
      "Mask, The (1994)\n",
      "Maverick (1994)\n",
      "Carlito's Way (1993)\n",
      "Firm, The (1993)\n",
      "Free Willy (1993)\n",
      "Fugitive, The (1993)\n",
      "Hot Shots! Part Deux (1993)\n",
      "Hudsucker Proxy, The (1994)\n",
      "Jurassic Park (1993)\n",
      "Much Ado About Nothing (1993)\n",
      "Robert A. Heinlein's The Puppet Masters (1994)\n",
      "Ref, The (1994)\n",
      "Remains of the Day, The (1993)\n",
      "Searching for Bobby Fischer (1993)\n",
      "Sleepless in Seattle (1993)\n",
      "Blade Runner (1982)\n",
      "So I Married an Axe Murderer (1993)\n",
      "Nightmare Before Christmas, The (1993)\n",
      "True Romance (1993)\n",
      "Welcome to the Dollhouse (1995)\n",
      "Home Alone (1990)\n",
      "Aladdin (1992)\n",
      "Terminator 2: Judgment Day (1991)\n",
      "Dances with Wolves (1990)\n",
      "Silence of the Lambs, The (1991)\n",
      "Snow White and the Seven Dwarfs (1937)\n",
      "Fargo (1996)\n",
      "Heavy Metal (1981)\n",
      "Aristocats, The (1970)\n",
      "All Dogs Go to Heaven 2 (1996)\n",
      "Sgt. Bilko (1996)\n",
      "Diabolique (1996)\n",
      "Moll Flanders (1996)\n",
      "Kids in the Hall: Brain Candy (1996)\n",
      "Mystery Science Theater 3000: The Movie (1996)\n",
      "Operation Dumbo Drop (1995)\n",
      "Truth About Cats & Dogs, The (1996)\n",
      "Flipper (1996)\n",
      "Wallace & Gromit: The Best of Aardman Animation (1996)\n",
      "Haunted World of Edward D. Wood Jr., The (1995)\n",
      "Cold Comfort Farm (1995)\n",
      "Rock, The (1996)\n",
      "Twister (1996)\n",
      "Striptease (1996)\n",
      "Independence Day (ID4) (1996)\n",
      "Cable Guy, The (1996)\n",
      "Frighteners, The (1996)\n",
      "Lone Star (1996)\n",
      "Phenomenon (1996)\n",
      "Spitfire Grill, The (1996)\n",
      "Godfather, The (1972)\n",
      "Supercop (1992)\n",
      "Bound (1996)\n",
      "Kansas City (1996)\n",
      "Breakfast at Tiffany's (1961)\n",
      "Wizard of Oz, The (1939)\n",
      "Gone with the Wind (1939)\n",
      "Citizen Kane (1941)\n",
      "2001: A Space Odyssey (1968)\n",
      "Mr. Smith Goes to Washington (1939)\n",
      "Big Night (1996)\n",
      "D3: The Mighty Ducks (1996)\n",
      "Love Bug, The (1969)\n",
      "Homeward Bound: The Incredible Journey (1993)\n",
      "20,000 Leagues Under the Sea (1954)\n",
      "Bedknobs and Broomsticks (1971)\n",
      "Sound of Music, The (1965)\n",
      "Die Hard (1988)\n",
      "Lawnmower Man, The (1992)\n",
      "Long Kiss Goodnight, The (1996)\n",
      "Ghost and the Darkness, The (1996)\n",
      "Jude (1996)\n",
      "Swingers (1996)\n",
      "Willy Wonka and the Chocolate Factory (1971)\n",
      "Sleeper (1973)\n",
      "Fish Called Wanda, A (1988)\n",
      "Monty Python's Life of Brian (1979)\n",
      "Dirty Dancing (1987)\n",
      "Reservoir Dogs (1992)\n",
      "Platoon (1986)\n",
      "Weekend at Bernie's (1989)\n",
      "Basic Instinct (1992)\n",
      "Glengarry Glen Ross (1992)\n",
      "Top Gun (1986)\n",
      "On Golden Pond (1981)\n",
      "Return of the Pink Panther, The (1974)\n",
      "Abyss, The (1989)\n",
      "Jean de Florette (1986)\n",
      "Manon of the Spring (Manon des sources) (1986)\n",
      "Private Benjamin (1980)\n",
      "Monty Python and the Holy Grail (1974)\n",
      "Wrong Trousers, The (1993)\n",
      "Cinema Paradiso (1988)\n",
      "Delicatessen (1991)\n",
      "Empire Strikes Back, The (1980)\n",
      "Princess Bride, The (1987)\n",
      "Raiders of the Lost Ark (1981)\n",
      "Brazil (1985)\n",
      "Aliens (1986)\n",
      "Good, The Bad and The Ugly, The (1966)\n",
      "12 Angry Men (1957)\n",
      "Clockwork Orange, A (1971)\n",
      "Apocalypse Now (1979)\n",
      "Return of the Jedi (1983)\n",
      "GoodFellas (1990)\n",
      "Alien (1979)\n",
      "Army of Darkness (1993)\n",
      "Psycho (1960)\n",
      "Blues Brothers, The (1980)\n",
      "Godfather: Part II, The (1974)\n",
      "Full Metal Jacket (1987)\n",
      "Grand Day Out, A (1992)\n",
      "Henry V (1989)\n",
      "Amadeus (1984)\n",
      "Raging Bull (1980)\n",
      "Right Stuff, The (1983)\n",
      "Sting, The (1973)\n",
      "Terminator, The (1984)\n",
      "Dead Poets Society (1989)\n",
      "Graduate, The (1967)\n",
      "Nikita (La Femme Nikita) (1990)\n",
      "Bridge on the River Kwai, The (1957)\n",
      "Shining, The (1980)\n",
      "Evil Dead II (1987)\n",
      "Groundhog Day (1993)\n",
      "Unforgiven (1992)\n",
      "Back to the Future (1985)\n",
      "Patton (1970)\n",
      "Akira (1988)\n",
      "Cyrano de Bergerac (1990)\n",
      "Young Frankenstein (1974)\n",
      "This Is Spinal Tap (1984)\n",
      "Indiana Jones and the Last Crusade (1989)\n",
      "M*A*S*H (1970)\n",
      "Unbearable Lightness of Being, The (1988)\n",
      "Room with a View, A (1986)\n",
      "Pink Floyd - The Wall (1982)\n",
      "Field of Dreams (1989)\n",
      "When Harry Met Sally... (1989)\n",
      "Bram Stoker's Dracula (1992)\n",
      "Cape Fear (1991)\n",
      "Nightmare on Elm Street, A (1984)\n",
      "Mirror Has Two Faces, The (1996)\n",
      "Breaking the Waves (1996)\n",
      "Star Trek: First Contact (1996)\n",
      "Sling Blade (1996)\n",
      "Ridicule (1996)\n",
      "101 Dalmatians (1996)\n",
      "Die Hard 2 (1990)\n",
      "Star Trek VI: The Undiscovered Country (1991)\n",
      "Star Trek: The Wrath of Khan (1982)\n",
      "Star Trek III: The Search for Spock (1984)\n",
      "Star Trek IV: The Voyage Home (1986)\n",
      "Batman Returns (1992)\n",
      "Young Guns (1988)\n",
      "Under Siege (1992)\n",
      "Jaws (1975)\n",
      "Mars Attacks! (1996)\n",
      "Citizen Ruth (1996)\n",
      "Jerry Maguire (1996)\n",
      "Raising Arizona (1987)\n",
      "Sneakers (1992)\n",
      "Beavis and Butt-head Do America (1996)\n",
      "Last of the Mohicans, The (1992)\n",
      "Kolya (1996)\n",
      "Jungle2Jungle (1997)\n",
      "Smilla's Sense of Snow (1997)\n",
      "Devil's Own, The (1997)\n",
      "Chasing Amy (1997)\n",
      "Grosse Pointe Blank (1997)\n",
      "Austin Powers: International Man of Mystery (1997)\n",
      "Fifth Element, The (1997)\n",
      "Shall We Dance? (1996)\n",
      "Lost World: Jurassic Park, The (1997)\n",
      "Pillow Book, The (1995)\n",
      "Batman & Robin (1997)\n",
      "My Best Friend's Wedding (1997)\n",
      "When the Cats Away (Chacun cherche son chat) (1996)\n",
      "Men in Black (1997)\n",
      "Contact (1997)\n",
      "George of the Jungle (1997)\n",
      "Event Horizon (1997)\n",
      "Air Bud (1997)\n",
      "In the Company of Men (1997)\n",
      "Steel (1997)\n",
      "Mimic (1997)\n",
      "Hunt for Red October, The (1990)\n",
      "Kull the Conqueror (1997)\n",
      "Chasing Amy (1997)\n",
      "Full Monty, The (1997)\n",
      "Gattaca (1997)\n",
      "Starship Troopers (1997)\n",
      "Good Will Hunting (1997)\n",
      "Heat (1995)\n",
      "Sabrina (1995)\n",
      "Sense and Sensibility (1995)\n",
      "Leaving Las Vegas (1995)\n",
      "Restoration (1995)\n",
      "Bed of Roses (1996)\n",
      "Once Upon a Time... When We Were Colored (1995)\n",
      "Up Close and Personal (1996)\n",
      "River Wild, The (1994)\n",
      "Time to Kill, A (1996)\n",
      "Emma (1996)\n",
      "Tin Cup (1996)\n",
      "Secrets & Lies (1996)\n",
      "English Patient, The (1996)\n",
      "Marvin's Room (1996)\n",
      "Scream (1996)\n",
      "Evita (1996)\n",
      "Fierce Creatures (1997)\n",
      "Absolute Power (1997)\n",
      "Rosewood (1997)\n",
      "Donnie Brasco (1997)\n",
      "Liar Liar (1997)\n",
      "Breakdown (1997)\n",
      "Ulee's Gold (1997)\n",
      "Face/Off (1997)\n",
      "Hoodlum (1997)\n",
      "Air Force One (1997)\n",
      "In & Out (1997)\n",
      "L.A. Confidential (1997)\n",
      "Ulee's Gold (1997)\n",
      "Fly Away Home (1996)\n",
      "Ice Storm, The (1997)\n",
      "Mrs. Brown (Her Majesty, Mrs. Brown) (1997)\n",
      "Devil's Advocate, The (1997)\n",
      "FairyTale: A True Story (1997)\n",
      "Deceiver (1997)\n",
      "Rainmaker, The (1997)\n",
      "Wings of the Dove, The (1997)\n",
      "Midnight in the Garden of Good and Evil (1997)\n",
      "Titanic (1997)\n",
      "Apt Pupil (1998)\n",
      "As Good As It Gets (1997)\n",
      "In the Name of the Father (1993)\n",
      "Schindler's List (1993)\n",
      "Everyone Says I Love You (1996)\n",
      "Paradise Lost: The Child Murders at Robin Hood Hills (1996)\n",
      "Mother (1996)\n",
      "Murder at 1600 (1997)\n",
      "Dante's Peak (1997)\n",
      "Lost Highway (1997)\n",
      "Crash (1996)\n",
      "G.I. Jane (1997)\n",
      "Cop Land (1997)\n",
      "Conspiracy Theory (1997)\n",
      "Desperate Measures (1998)\n",
      "187 (1997)\n",
      "Edge, The (1997)\n",
      "Kiss the Girls (1997)\n",
      "Game, The (1997)\n",
      "U Turn (1997)\n",
      "How to Be a Player (1997)\n",
      "Playing God (1997)\n",
      "House of Yes, The (1997)\n",
      "Bean (1997)\n",
      "Mad City (1997)\n",
      "Boogie Nights (1997)\n",
      "Critical Care (1997)\n",
      "Man Who Knew Too Little, The (1997)\n",
      "Alien: Resurrection (1997)\n",
      "Apostle, The (1997)\n",
      "Deconstructing Harry (1997)\n",
      "Jackie Brown (1997)\n",
      "Wag the Dog (1997)\n",
      "Desperate Measures (1998)\n",
      "Hard Rain (1998)\n",
      "Fallen (1998)\n",
      "Prophecy II, The (1998)\n",
      "Spice World (1997)\n",
      "Deep Rising (1998)\n",
      "Wedding Singer, The (1998)\n",
      "Sphere (1998)\n",
      "Client, The (1994)\n",
      "One Flew Over the Cuckoo's Nest (1975)\n",
      "Spawn (1997)\n",
      "Assignment, The (1997)\n",
      "Blues Brothers 2000 (1998)\n",
      "Sudden Death (1995)\n",
      "Ace Ventura: When Nature Calls (1995)\n",
      "Powder (1995)\n",
      "Dangerous Minds (1995)\n",
      "Clueless (1995)\n",
      "Bio-Dome (1996)\n",
      "Black Sheep (1996)\n",
      "Mary Reilly (1996)\n",
      "Bridges of Madison County, The (1995)\n",
      "Jeffrey (1995)\n",
      "Judge Dredd (1995)\n",
      "Mighty Morphin Power Rangers: The Movie (1995)\n",
      "Showgirls (1995)\n",
      "Houseguest (1994)\n",
      "Heavyweights (1994)\n",
      "Miracle on 34th Street (1994)\n",
      "Tales From the Crypt Presents: Demon Knight (1995)\n",
      "Star Trek: Generations (1994)\n",
      "Muriel's Wedding (1994)\n",
      "Adventures of Priscilla, Queen of the Desert, The (1994)\n",
      "Flintstones, The (1994)\n",
      "Naked Gun 33 1/3: The Final Insult (1994)\n",
      "True Lies (1994)\n",
      "Addams Family Values (1993)\n",
      "Age of Innocence, The (1993)\n",
      "Beverly Hills Cop III (1994)\n",
      "Black Beauty (1994)\n",
      "Last Action Hero (1993)\n",
      "Man Without a Face, The (1993)\n",
      "Mrs. Doubtfire (1993)\n",
      "Radioland Murders (1994)\n",
      "Robin Hood: Men in Tights (1993)\n",
      "Serial Mom (1994)\n",
      "Striking Distance (1993)\n",
      "Super Mario Bros. (1993)\n",
      "Three Musketeers, The (1993)\n",
      "Little Rascals, The (1994)\n",
      "Brady Bunch Movie, The (1995)\n",
      "Ghost (1990)\n",
      "Batman (1989)\n",
      "Pinocchio (1940)\n",
      "Mission: Impossible (1996)\n",
      "Thinner (1996)\n",
      "Spy Hard (1996)\n",
      "Close Shave, A (1995)\n",
      "Jack (1996)\n",
      "Kingpin (1996)\n",
      "Nutty Professor, The (1996)\n",
      "Very Brady Sequel, A (1996)\n",
      "Tales from the Crypt Presents: Bordello of Blood (1996)\n",
      "My Favorite Year (1982)\n",
      "Apple Dumpling Gang, The (1975)\n",
      "Old Yeller (1957)\n",
      "Parent Trap, The (1961)\n",
      "Cinderella (1950)\n",
      "Mary Poppins (1964)\n",
      "Alice in Wonderland (1951)\n",
      "William Shakespeare's Romeo and Juliet (1996)\n",
      "Aladdin and the King of Thieves (1996)\n",
      "E.T. the Extra-Terrestrial (1982)\n",
      "Children of the Corn: The Gathering (1996)\n",
      "Bob Roberts (1992)\n",
      "Transformers: The Movie, The (1986)\n",
      "To Kill a Mockingbird (1962)\n",
      "Harold and Maude (1971)\n",
      "Day the Earth Stood Still, The (1951)\n",
      "Duck Soup (1933)\n",
      "Highlander (1986)\n",
      "Fantasia (1940)\n",
      "Heathers (1989)\n",
      "Forbidden Planet (1956)\n",
      "Butch Cassidy and the Sundance Kid (1969)\n",
      "American Werewolf in London, An (1981)\n",
      "Amityville II: The Possession (1982)\n",
      "Amityville Horror, The (1979)\n",
      "Birds, The (1963)\n",
      "Blob, The (1958)\n",
      "Body Snatcher, The (1945)\n",
      "Carrie (1976)\n",
      "Omen, The (1976)\n",
      "Star Trek: The Motion Picture (1979)\n",
      "Star Trek V: The Final Frontier (1989)\n",
      "Grease (1978)\n",
      "Jaws 2 (1978)\n",
      "Jaws 3-D (1983)\n",
      "Bastard Out of Carolina (1996)\n",
      "Jackie Chan's First Strike (1996)\n",
      "Beverly Hills Ninja (1997)\n",
      "Free Willy 3: The Rescue (1997)\n",
      "Nixon (1995)\n",
      "Cry, the Beloved Country (1995)\n",
      "Crossing Guard, The (1995)\n",
      "Smoke (1995)\n",
      "Like Water For Chocolate (Como agua para chocolate) (1992)\n",
      "Secret of Roan Inish, The (1994)\n",
      "Vanya on 42nd Street (1994)\n",
      "Jungle Book, The (1994)\n",
      "Red Rock West (1992)\n",
      "Bronx Tale, A (1993)\n",
      "Rudy (1993)\n",
      "Short Cuts (1993)\n",
      "Tombstone (1993)\n",
      "Courage Under Fire (1996)\n",
      "Dragonheart (1996)\n",
      "James and the Giant Peach (1996)\n",
      "Dr. Strangelove or: How I Learned to Stop Worrying and Love the Bomb (1963)\n",
      "Trainspotting (1996)\n",
      "First Wives Club, The (1996)\n",
      "Matilda (1996)\n",
      "Philadelphia Story, The (1940)\n",
      "Vertigo (1958)\n",
      "North by Northwest (1959)\n",
      "Apartment, The (1960)\n",
      "Some Like It Hot (1959)\n",
      "Casablanca (1942)\n",
      "Maltese Falcon, The (1941)\n",
      "My Fair Lady (1964)\n",
      "Sabrina (1954)\n",
      "Roman Holiday (1953)\n",
      "Sunset Blvd. (1950)\n",
      "Notorious (1946)\n",
      "To Catch a Thief (1955)\n",
      "Adventures of Robin Hood, The (1938)\n",
      "East of Eden (1955)\n",
      "Thin Man, The (1934)\n",
      "His Girl Friday (1940)\n",
      "Around the World in 80 Days (1956)\n",
      "It's a Wonderful Life (1946)\n",
      "Bringing Up Baby (1938)\n",
      "African Queen, The (1951)\n",
      "Cat on a Hot Tin Roof (1958)\n",
      "Fly Away Home (1996)\n",
      "Dumbo (1941)\n",
      "Bananas (1971)\n",
      "Candidate, The (1972)\n",
      "Bonnie and Clyde (1967)\n",
      "Dial M for Murder (1954)\n",
      "Rebel Without a Cause (1955)\n",
      "Streetcar Named Desire, A (1951)\n",
      "People vs. Larry Flynt, The (1996)\n",
      "My Left Foot (1989)\n",
      "Magnificent Seven, The (1954)\n",
      "Lawrence of Arabia (1962)\n",
      "Wings of Desire (1987)\n",
      "Third Man, The (1949)\n",
      "Annie Hall (1977)\n",
      "Boot, Das (1981)\n",
      "Local Hero (1983)\n",
      "Manhattan (1979)\n",
      "Miller's Crossing (1990)\n",
      "Treasure of the Sierra Madre, The (1948)\n",
      "Great Escape, The (1963)\n",
      "Deer Hunter, The (1978)\n",
      "Down by Law (1986)\n",
      "Cool Hand Luke (1967)\n",
      "Great Dictator, The (1940)\n",
      "Big Sleep, The (1946)\n",
      "Ben-Hur (1959)\n",
      "Gandhi (1982)\n",
      "Killing Fields, The (1984)\n",
      "My Life as a Dog (Mitt liv som hund) (1985)\n",
      "Man Who Would Be King, The (1975)\n",
      "Shine (1996)\n",
      "Kama Sutra: A Tale of Love (1996)\n",
      "Daytrippers, The (1996)\n",
      "Traveller (1997)\n",
      "Addicted to Love (1997)\n",
      "My Own Private Idaho (1991)\n",
      "Anastasia (1997)\n",
      "Mouse Hunt (1997)\n",
      "Money Train (1995)\n",
      "Mortal Kombat (1995)\n",
      "Pocahontas (1995)\n",
      "Mis�rables, Les (1995)\n",
      "Things to Do in Denver when You're Dead (1995)\n",
      "Vampire in Brooklyn (1995)\n",
      "Broken Arrow (1996)\n",
      "Young Poisoner's Handbook, The (1995)\n",
      "NeverEnding Story III, The (1994)\n",
      "Rob Roy (1995)\n",
      "Die Hard: With a Vengeance (1995)\n",
      "Lord of Illusions (1995)\n",
      "Species (1995)\n",
      "Walk in the Clouds, A (1995)\n",
      "Waterworld (1995)\n",
      "Wild Bill (1995)\n",
      "Farinelli: il castrato (1994)\n",
      "Heavenly Creatures (1994)\n",
      "Interview with the Vampire (1994)\n",
      "Kid in King Arthur's Court, A (1995)\n",
      "Mary Shelley's Frankenstein (1994)\n",
      "Quick and the Dead, The (1995)\n",
      "Stephen King's The Langoliers (1995)\n",
      "Tales from the Hood (1995)\n",
      "Village of the Damned (1995)\n",
      "Clear and Present Danger (1994)\n",
      "Wes Craven's New Nightmare (1994)\n",
      "Speed (1994)\n",
      "Wolf (1994)\n",
      "Wyatt Earp (1994)\n",
      "Another Stakeout (1993)\n",
      "Blown Away (1994)\n",
      "Body Snatchers (1993)\n",
      "Boxing Helena (1993)\n",
      "City Slickers II: The Legend of Curly's Gold (1994)\n",
      "Cliffhanger (1993)\n",
      "Coneheads (1993)\n",
      "Demolition Man (1993)\n",
      "Fatal Instinct (1993)\n",
      "Englishman Who Went Up a Hill, But Came Down a Mountain, The (1995)\n",
      "Kalifornia (1993)\n",
      "Piano, The (1993)\n",
      "Romeo Is Bleeding (1993)\n",
      "Secret Garden, The (1993)\n",
      "Son in Law (1993)\n",
      "Terminal Velocity (1994)\n",
      "Hour of the Pig, The (1993)\n",
      "Beauty and the Beast (1991)\n",
      "Wild Bunch, The (1969)\n",
      "Hellraiser: Bloodline (1996)\n",
      "Primal Fear (1996)\n",
      "Stalingrad (1993)\n",
      "Fan, The (1996)\n",
      "Hunchback of Notre Dame, The (1996)\n",
      "Eraser (1996)\n",
      "For Whom the Bell Tolls (1943)\n",
      "American in Paris, An (1951)\n",
      "Rear Window (1954)\n",
      "It Happened One Night (1934)\n",
      "Meet Me in St. Louis (1944)\n",
      "All About Eve (1950)\n",
      "Rebecca (1940)\n",
      "Spellbound (1945)\n",
      "Father of the Bride (1950)\n",
      "Gigi (1958)\n",
      "Laura (1944)\n",
      "Lost Horizon (1937)\n",
      "My Man Godfrey (1936)\n",
      "Giant (1956)\n",
      "39 Steps, The (1935)\n",
      "Night of the Living Dead (1968)\n",
      "Blue Angel, The (Blaue Engel, Der) (1930)\n",
      "Picnic (1955)\n",
      "Extreme Measures (1996)\n",
      "Chamber, The (1996)\n",
      "Davy Crockett, King of the Wild Frontier (1955)\n",
      "Swiss Family Robinson (1960)\n",
      "Angels in the Outfield (1994)\n",
      "Three Caballeros, The (1945)\n",
      "Sword in the Stone, The (1963)\n",
      "Robin Hood: Prince of Thieves (1991)\n",
      "Sleepers (1996)\n",
      "Victor/Victoria (1982)\n",
      "Great Race, The (1965)\n",
      "Crying Game, The (1992)\n",
      "Sophie's Choice (1982)\n",
      "Christmas Carol, A (1938)\n",
      "Microcosmos: Le peuple de l'herbe (1996)\n",
      "Fog, The (1980)\n",
      "Escape from New York (1981)\n",
      "Howling, The (1981)\n",
      "Return of Martin Guerre, The (Retour de Martin Guerre, Le) (1982)\n",
      "Tin Drum, The (Blechtrommel, Die) (1979)\n",
      "Cook the Thief His Wife & Her Lover, The (1989)\n",
      "Paths of Glory (1957)\n",
      "Grifters, The (1990)\n",
      "Thin Blue Line, The (1988)\n",
      "Paris Is Burning (1990)\n",
      "Once Upon a Time in the West (1969)\n",
      "Ran (1985)\n",
      "Quiet Man, The (1952)\n",
      "Once Upon a Time in America (1984)\n",
      "Seventh Seal, The (Sjunde inseglet, Det) (1957)\n",
      "Glory (1989)\n",
      "Rosencrantz and Guildenstern Are Dead (1990)\n",
      "Touch of Evil (1958)\n",
      "Chinatown (1974)\n",
      "Stand by Me (1986)\n",
      "M (1931)\n",
      "Manchurian Candidate, The (1962)\n",
      "Pump Up the Volume (1990)\n",
      "Arsenic and Old Lace (1944)\n",
      "Fried Green Tomatoes (1991)\n",
      "High Noon (1952)\n",
      "Somewhere in Time (1980)\n",
      "Being There (1979)\n",
      "Paris, Texas (1984)\n",
      "Alien 3 (1992)\n",
      "Audrey Rose (1977)\n",
      "Body Parts (1991)\n",
      "Body Snatchers (1993)\n",
      "Bride of Frankenstein (1935)\n",
      "Candyman (1992)\n",
      "Cape Fear (1962)\n",
      "Cat People (1982)\n",
      "Nosferatu (Nosferatu, eine Symphonie des Grauens) (1922)\n",
      "Crucible, The (1996)\n",
      "Volcano (1997)\n",
      "Conan the Barbarian (1981)\n",
      "Kull the Conqueror (1997)\n",
      "Wishmaster (1997)\n",
      "I Know What You Did Last Summer (1997)\n",
      "Rocket Man (1997)\n",
      "In the Line of Fire (1993)\n",
      "Executive Decision (1996)\n",
      "Perfect World, A (1993)\n",
      "McHale's Navy (1997)\n",
      "Leave It to Beaver (1997)\n",
      "Jackal, The (1997)\n",
      "Seven Years in Tibet (1997)\n",
      "Dark City (1998)\n",
      "American President, The (1995)\n",
      "Casino (1995)\n",
      "Persuasion (1995)\n",
      "Kicking and Screaming (1995)\n",
      "City Hall (1996)\n",
      "Basketball Diaries, The (1995)\n",
      "Little Women (1994)\n",
      "Miami Rhapsody (1995)\n",
      "Barcelona (1994)\n",
      "Widows' Peak (1994)\n",
      "House of the Spirits, The (1993)\n",
      "Singin' in the Rain (1952)\n",
      "Enchanted April (1991)\n",
      "Sex, Lies, and Videotape (1989)\n",
      "Strictly Ballroom (1992)\n",
      "Better Off Dead... (1985)\n",
      "Tin Men (1987)\n",
      "Othello (1995)\n",
      "Carrington (1995)\n",
      "To Die For (1995)\n",
      "Home for the Holidays (1995)\n",
      "Juror, The (1996)\n",
      "In the Bleak Midwinter (1995)\n",
      "Canadian Bacon (1994)\n",
      "First Knight (1995)\n",
      "Mallrats (1995)\n",
      "Nine Months (1995)\n",
      "Boys on the Side (1995)\n",
      "Circle of Friends (1995)\n",
      "Exit to Eden (1994)\n",
      "Fluke (1995)\n",
      "Immortal Beloved (1994)\n",
      "Junior (1994)\n",
      "Nell (1994)\n",
      "Queen Margot (Reine Margot, La) (1994)\n",
      "Corrina, Corrina (1994)\n",
      "Dave (1993)\n",
      "Go Fish (1994)\n",
      "Made in America (1993)\n",
      "Philadelphia (1993)\n",
      "Shadowlands (1993)\n",
      "Sirens (1994)\n",
      "Threesome (1994)\n",
      "Pretty Woman (1990)\n",
      "Jane Eyre (1996)\n",
      "Last Supper, The (1995)\n",
      "Ransom (1996)\n",
      "Crow: City of Angels, The (1996)\n",
      "Michael Collins (1996)\n",
      "Ruling Class, The (1972)\n",
      "Real Genius (1985)\n",
      "Benny & Joon (1993)\n",
      "Saint, The (1997)\n",
      "MatchMaker, The (1997)\n",
      "Amistad (1997)\n",
      "Tomorrow Never Dies (1997)\n",
      "Replacement Killers, The (1998)\n",
      "Burnt By the Sun (1994)\n",
      "Red Corner (1997)\n",
      "Jumanji (1995)\n",
      "Father of the Bride Part II (1995)\n",
      "Lawnmower Man 2: Beyond Cyberspace (1996)\n",
      "Fair Game (1995)\n",
      "Screamers (1995)\n",
      "Nick of Time (1995)\n",
      "Beautiful Girls (1996)\n",
      "Happy Gilmore (1996)\n",
      "If Lucy Fell (1996)\n",
      "Boomerang (1992)\n",
      "Addiction, The (1995)\n",
      "Casper (1995)\n",
      "Congo (1995)\n",
      "Devil in a Blue Dress (1995)\n",
      "Johnny Mnemonic (1995)\n",
      "Kids (1995)\n",
      "Mute Witness (1994)\n",
      "Prophecy, The (1995)\n",
      "Something to Talk About (1995)\n",
      "Don Juan DeMarco (1995)\n",
      "Drop Zone (1994)\n",
      "Dumb & Dumber (1994)\n",
      "French Kiss (1995)\n",
      "Milk Money (1994)\n",
      "Only You (1994)\n",
      "Perez Family, The (1995)\n",
      "Roommates (1995)\n",
      "Swimming with Sharks (1995)\n",
      "Tommy Boy (1995)\n",
      "Bullets Over Broadway (1994)\n",
      "It Could Happen to You (1994)\n",
      "Richie Rich (1994)\n",
      "Speechless (1994)\n",
      "Timecop (1994)\n",
      "In the Mouth of Madness (1995)\n",
      "Air Up There, The (1994)\n",
      "Hard Target (1993)\n",
      "Manhattan Murder Mystery (1993)\n",
      "Menace II Society (1993)\n",
      "Program, The (1993)\n",
      "Rising Sun (1993)\n",
      "Shadow, The (1994)\n",
      "Thirty-Two Short Films About Glenn Gould (1993)\n",
      "Andre (1994)\n",
      "Celluloid Closet, The (1995)\n",
      "One Fine Day (1996)\n",
      "Candyman: Farewell to the Flesh (1995)\n",
      "Girl 6 (1996)\n",
      "Eddie (1996)\n",
      "Space Jam (1996)\n",
      "Mrs. Winterbourne (1996)\n",
      "Mulholland Falls (1996)\n",
      "Great White Hype, The (1996)\n",
      "Arrival, The (1996)\n",
      "Phantom, The (1996)\n",
      "Daylight (1996)\n",
      "Alaska (1996)\n",
      "Fled (1996)\n",
      "Escape from L.A. (1996)\n",
      "Bogus (1996)\n",
      "Bulletproof (1996)\n",
      "Halloween: The Curse of Michael Myers (1995)\n",
      "Gay Divorcee, The (1934)\n",
      "Ninotchka (1939)\n",
      "Meet John Doe (1941)\n",
      "Last Man Standing (1996)\n",
      "Glimmer Man, The (1996)\n",
      "Pollyanna (1960)\n",
      "Shaggy Dog, The (1959)\n",
      "Freeway (1996)\n",
      "That Thing You Do! (1996)\n",
      "To Gillian on Her 37th Birthday (1996)\n",
      "Looking for Richard (1996)\n",
      "Days of Thunder (1990)\n",
      "Braindead (1992)\n",
      "Bad Taste (1987)\n",
      "Diva (1981)\n",
      "Night on Earth (1991)\n",
      "April Fool's Day (1986)\n",
      "Believers, The (1987)\n",
      "Jingle All the Way (1996)\n",
      "Garden of Finzi-Contini, The (Giardino dei Finzi-Contini, Il) (1970)\n",
      "My Fellow Americans (1996)\n",
      "Ice Storm, The (1997)\n",
      "Michael (1996)\n",
      "Fools Rush In (1997)\n",
      "Vegas Vacation (1997)\n",
      "Love Jones (1997)\n",
      "Picture Perfect (1997)\n",
      "Career Girls (1997)\n",
      "She's So Lovely (1997)\n",
      "Money Talks (1997)\n",
      "Excess Baggage (1997)\n",
      "That Darn Cat! (1997)\n",
      "Peacemaker, The (1997)\n",
      "Soul Food (1997)\n",
      "Money Talks (1997)\n",
      "Washington Square (1997)\n",
      "Telling Lies in America (1997)\n",
      "Phantoms (1998)\n",
      "Life Less Ordinary, A (1997)\n",
      "Eve's Bayou (1997)\n",
      "One Night Stand (1997)\n",
      "Tango Lesson, The (1997)\n",
      "Mortal Kombat: Annihilation (1997)\n",
      "Flubber (1997)\n",
      "For Richer or Poorer (1997)\n",
      "Home Alone 3 (1997)\n",
      "Scream 2 (1997)\n",
      "Sweet Hereafter, The (1997)\n",
      "Postman, The (1997)\n",
      "Kundun (1997)\n",
      "Mr. Magoo (1997)\n",
      "Big Lebowski, The (1998)\n",
      "Afterglow (1997)\n",
      "Ma vie en rose (My Life in Pink) (1997)\n",
      "Great Expectations (1998)\n",
      "Oscar & Lucinda (1997)\n",
      "Half Baked (1998)\n",
      "Dangerous Beauty (1998)\n",
      "Wild Things (1998)\n",
      "Primary Colors (1998)\n",
      "Lost in Space (1998)\n",
      "City of Lost Children, The (1995)\n",
      "Farewell My Concubine (1993)\n",
      "Dead Man (1995)\n",
      "Raise the Red Lantern (1991)\n",
      "White Squall (1996)\n",
      "Unforgettable (1996)\n",
      "Down Periscope (1996)\n",
      "Craft, The (1996)\n",
      "Harriet the Spy (1996)\n",
      "Chain Reaction (1996)\n",
      "Island of Dr. Moreau, The (1996)\n",
      "First Kid (1996)\n",
      "Funeral, The (1996)\n",
      "Preacher's Wife, The (1996)\n",
      "Brassed Off (1996)\n",
      "Thousand Acres, A (1997)\n",
      "Smile Like Yours, A (1997)\n",
      "Murder in the First (1995)\n",
      "Airheads (1994)\n",
      "With Honors (1994)\n",
      "What's Love Got to Do with It (1993)\n",
      "Killing Zoe (1994)\n",
      "Renaissance Man (1994)\n",
      "Charade (1963)\n",
      "Fox and the Hound, The (1981)\n",
      "Big Blue, The (Grand bleu, Le) (1988)\n",
      "Booty Call (1997)\n",
      "How to Make an American Quilt (1995)\n",
      "Georgia (1995)\n",
      "Indian in the Cupboard, The (1995)\n",
      "Blue in the Face (1995)\n",
      "Unstrung Heroes (1995)\n",
      "Unzipped (1995)\n",
      "Before Sunrise (1995)\n",
      "Nobody's Fool (1994)\n",
      "To Live (Huozhe) (1994)\n",
      "Dazed and Confused (1993)\n",
      "Naked (1993)\n",
      "Orlando (1993)\n",
      "Ruby in Paradise (1993)\n",
      "Some Folks Call It a Sling Blade (1993)\n",
      "Funny Face (1957)\n",
      "Affair to Remember, An (1957)\n",
      "Little Lord Fauntleroy (1936)\n",
      "Inspector General, The (1949)\n",
      "Winnie the Pooh and the Blustery Day (1968)\n",
      "Mediterraneo (1991)\n",
      "Passion Fish (1992)\n",
      "Eye for an Eye (1996)\n",
      "Fear (1996)\n",
      "Solo (1996)\n",
      "Substitute, The (1996)\n",
      "Heaven's Prisoners (1996)\n",
      "Trigger Effect, The (1996)\n",
      "Mother Night (1996)\n",
      "Maximum Risk (1996)\n",
      "Rich Man's Wife, The (1996)\n",
      "Shadow Conspiracy (1997)\n",
      "Blood & Wine (1997)\n",
      "Turbulence (1997)\n",
      "Beautician and the Beast, The (1997)\n",
      "Cats Don't Dance (1997)\n",
      "Anna Karenina (1997)\n",
      "Keys to Tulsa (1997)\n",
      "Hercules (1997)\n",
      "Kiss Me, Guido (1997)\n",
      "Big Green, The (1995)\n",
      "Stuart Saves His Family (1995)\n",
      "Cabin Boy (1994)\n",
      "Stupids, The (1996)\n",
      "Double vie de V�ronique, La (Double Life of Veronique, The) (1991)\n",
      "Until the End of the World (Bis ans Ende der Welt) (1991)\n",
      "Waiting for Guffman (1996)\n",
      "I Shot Andy Warhol (1996)\n",
      "Stealing Beauty (1996)\n",
      "Basquiat (1996)\n",
      "2 Days in the Valley (1996)\n",
      "Private Parts (1997)\n",
      "Anaconda (1997)\n",
      "Romy and Michele's High School Reunion (1997)\n",
      "Shiloh (1997)\n",
      "Con Air (1997)\n",
      "Trees Lounge (1996)\n",
      "Tie Me Up! Tie Me Down! (1990)\n",
      "Die xue shuang xiong (Killer, The) (1989)\n",
      "Gaslight (1944)\n",
      "8 1/2 (1963)\n",
      "Fast, Cheap & Out of Control (1997)\n",
      "Fathers' Day (1997)\n",
      "Mrs. Dalloway (1997)\n",
      "Fire Down Below (1997)\n",
      "Grumpier Old Men (1995)\n",
      "Jury Duty (1995)\n",
      "Beverly Hillbillies, The (1993)\n",
      "Little Big League (1994)\n",
      "Homeward Bound II: Lost in San Francisco (1996)\n",
      "Quest, The (1996)\n",
      "Cool Runnings (1993)\n",
      "Drop Dead Fred (1991)\n",
      "Grease 2 (1982)\n",
      "Switchback (1997)\n",
      "Hamlet (1996)\n",
      "Two if by Sea (1996)\n",
      "Forget Paris (1995)\n",
      "Just Cause (1995)\n",
      "Paper, The (1994)\n",
      "Fearless (1993)\n",
      "Malice (1993)\n",
      "Multiplicity (1996)\n",
      "She's the One (1996)\n",
      "House Arrest (1996)\n",
      "Ghost and Mrs. Muir, The (1947)\n",
      "Associate, The (1996)\n",
      "Dracula: Dead and Loving It (1995)\n",
      "Now and Then (1995)\n",
      "Mr. Wrong (1996)\n",
      "Pallbearer, The (1996)\n",
      "War, The (1994)\n",
      "Don't Be a Menace to South Central While Drinking Your Juice in the Hood (1996)\n",
      "Adventures of Pinocchio, The (1996)\n",
      "Evening Star, The (1996)\n",
      "Four Days in September (1997)\n",
      "Little Princess, A (1995)\n",
      "Koyaanisqatsi (1983)\n",
      "Balto (1995)\n",
      "Bottle Rocket (1996)\n",
      "Star Maker, The (Uomo delle stelle, L') (1995)\n",
      "Amateur (1994)\n",
      "Living in Oblivion (1995)\n",
      "Party Girl (1995)\n",
      "Shallow Grave (1994)\n",
      "Reality Bites (1994)\n",
      "Pagemaster, The (1994)\n",
      "Oliver & Company (1988)\n",
      "Joe's Apartment (1996)\n",
      "Anne Frank Remembered (1995)\n",
      "Carried Away (1996)\n",
      "It's My Party (1995)\n",
      "Double Team (1997)\n",
      "Speed 2: Cruise Control (1997)\n",
      "Sliver (1993)\n",
      "Pete's Dragon (1977)\n",
      "Dear God (1996)\n",
      "Live Nude Girls (1995)\n",
      "Thin Line Between Love and Hate, A (1996)\n",
      "High School High (1996)\n",
      "Hate (Haine, La) (1995)\n",
      "Flirting With Disaster (1996)\n",
      "Red Firecracker, Green Firecracker (1994)\n",
      "Six Degrees of Separation (1993)\n",
      "Trust (1990)\n",
      "Firestorm (1998)\n",
      "Beyond Rangoon (1995)\n",
      "Death and the Maiden (1994)\n",
      "Tank Girl (1995)\n",
      "Cobb (1994)\n",
      "Mrs. Parker and the Vicious Circle (1994)\n",
      "Twelfth Night (1996)\n",
      "Mark of Zorro, The (1940)\n",
      "Surviving Picasso (1996)\n",
      "Up in Smoke (1978)\n",
      "Some Kind of Wonderful (1987)\n",
      "I'm Not Rappaport (1996)\n",
      "Umbrellas of Cherbourg, The (Parapluies de Cherbourg, Les) (1964)\n",
      "Farewell to Arms, A (1932)\n",
      "Old Man and the Sea, The (1958)\n",
      "Truman Show, The (1998)\n",
      "Heidi Fleiss: Hollywood Madam (1995) \n",
      "Chungking Express (1994)\n",
      "Safe (1995)\n",
      "Feeling Minnesota (1996)\n",
      "Escape to Witch Mountain (1975)\n",
      "Get on the Bus (1996)\n",
      "Doors, The (1991)\n",
      "Ghosts of Mississippi (1996)\n",
      "Beautiful Thing (1996)\n",
      "Hackers (1995)\n",
      "Road to Wellville, The (1994)\n",
      "When We Were Kings (1996)\n",
      "Hard Eight (1996)\n",
      "My Family (1995)\n",
      "Walkabout (1971)\n",
      "In Love and War (1996)\n",
      "Backbeat (1993)\n",
      "Alphaville (1965)\n",
      "Relic, The (1997)\n",
      "Stalker (1979)\n",
      "Love! Valour! Compassion! (1997)\n",
      "Palookaville (1996)\n",
      "Portrait of a Lady, The (1996)\n",
      "Big Bully (1996)\n",
      "Love & Human Remains (1993)\n",
      "Sum of Us, The (1994)\n",
      "Little Buddha (1993)\n",
      "Spanking the Monkey (1994)\n",
      "Wild Reeds (1994)\n",
      "Women, The (1939)\n",
      "Welcome To Sarajevo (1997)\n",
      "Major Payne (1994)\n",
      "Cops and Robbersons (1994)\n",
      "Cowboy Way, The (1994)\n",
      "In the Army Now (1994)\n",
      "Switchblade Sisters (1975)\n",
      "Young Guns II (1990)\n",
      "That Old Feeling (1997)\n",
      "Boys of St. Vincent, The (1993)\n",
      "Once Were Warriors (1994)\n",
      "Strawberry and Chocolate (Fresa y chocolate) (1993)\n",
      "Family Thing, A (1996)\n",
      "Cemetery Man (Dellamorte Dellamore) (1994)\n",
      "Top Hat (1935)\n",
      "To Be or Not to Be (1942)\n",
      "Amos & Andrew (1993)\n",
      "Jade (1995)\n",
      "Kiss of Death (1995)\n",
      "Mixed Nuts (1994)\n",
      "Virtuosity (1995)\n",
      "Blue Sky (1994)\n",
      "Barb Wire (1996)\n",
      "Assassins (1995)\n",
      "Friday (1995)\n",
      "Goofy Movie, A (1995)\n",
      "Higher Learning (1995)\n",
      "When a Man Loves a Woman (1994)\n",
      "Judgment Night (1993)\n",
      "Scout, The (1994)\n",
      "Angus (1995)\n",
      "Night Falls on Manhattan (1997)\n",
      "Under Siege 2: Dark Territory (1995)\n",
      "Poison Ivy II (1995)\n",
      "Ready to Wear (Pret-A-Porter) (1994)\n",
      "Marked for Death (1990)\n",
      "Madonna: Truth or Dare (1991)\n",
      "Cutthroat Island (1995)\n",
      "Ghost in the Shell (Kokaku kidotai) (1995)\n",
      "Metro (1997)\n",
      "Gridlock'd (1997)\n",
      "Blink (1994)\n",
      "For Love or Money (1993)\n",
      "Gone Fishin' (1997)\n",
      "Trial and Error (1997)\n",
      "Foxfire (1996)\n",
      "Star Maps (1997)\n",
      "Bread and Chocolate (Pane e cioccolata) (1973)\n",
      "Clockers (1995)\n",
      "Color of Night (1994)\n",
      "Robocop 3 (1993)\n",
      "Set It Off (1996)\n",
      "Selena (1997)\n",
      "Gang Related (1997)\n",
      "Manny & Lo (1996)\n",
      "Out to Sea (1997)\n",
      "Before and After (1996)\n",
      "Princess Caraboo (1994)\n",
      "Shall We Dance? (1937)\n",
      "Celtic Pride (1996)\n",
      "Indian Summer (1996)\n",
      "Love Affair (1994)\n",
      "Getaway, The (1994)\n",
      "Waiting to Exhale (1995)\n",
      "Palmetto (1998)\n",
      "Surviving the Game (1994)\n",
      "Inventing the Abbotts (1997)\n",
      "American Buffalo (1996)\n",
      "M. Butterfly (1993)\n",
      "Withnail and I (1987)\n",
      "Specialist, The (1994)\n",
      "Barbarella (1968)\n",
      "Highlander III: The Sorcerer (1994)\n",
      "My Crazy Life (Mi vida loca) (1993)\n",
      "SubUrbia (1997)\n",
      "That Darn Cat! (1965)\n",
      "Bye Bye, Love (1995)\n",
      "Foreign Correspondent (1940)\n",
      "Tom and Huck (1995)\n",
      "Dead Presidents (1995)\n",
      "Herbie Rides Again (1974)\n",
      "Man in the Iron Mask, The (1998)\n",
      "Losing Isaiah (1995)\n",
      "1119\n"
     ]
    }
   ],
   "source": [
    "print Y2[np.nonzero(Y2[:,1499]),1499]\n",
    "print Rates_ord_mean[-20:]\n",
    "print Y2_mean[1499]\n",
    "count=0\n",
    "for j in range(Y2.shape[1]) :\n",
    "    if Y2[np.nonzero(Y2[:,j]),j].shape[1]>10 :\n",
    "        count = count+1\n",
    "        print Title[j]\n",
    "print count"
   ]
  },
  {
   "cell_type": "code",
   "execution_count": 3,
   "metadata": {
    "collapsed": true
   },
   "outputs": [],
   "source": [
    "# Modification du modèle : définition de deux paramètres de régularisation indépendants pour Theta (rg1) et X (rg2)\n",
    "\n",
    "# Fonction de coût\n",
    "def Cost_2reg(y, r, theta, x, rg1, rg2) :\n",
    "    n_r = r[np.nonzero(r)].size\n",
    "    error = (0.5/n_r)*np.einsum('ij,ji->', r*(np.dot(theta,x.T)-y), (r*(np.dot(theta,x.T)-y)).T)\n",
    "    return error + (0.5*rg1/n_r)*np.einsum('ij,ji->', theta, theta.T) + (0.5*rg2/n_r)*np.einsum('ij,ji->', x, x.T)\n",
    "\n",
    "# Méthode du gradient\n",
    "def GradientDescent_2reg(y, r, theta, x, al, rg1, rg2, eps, max_it):\n",
    "    n_r = r[np.nonzero(r)].size\n",
    "    j = Cost(y, r, theta, x, rg)\n",
    "    j_hist = [j]\n",
    "    j_old = j + 10*eps\n",
    "    iter_n=0\n",
    "    while abs(j-j_old) > eps :\n",
    "        j_old = j\n",
    "        Grad_X = (1.0/n_r)*np.dot((r*(np.dot(theta,x.T)-y)).T,theta) + (rg2/n_r)*x\n",
    "        Grad_Theta = (1.0/n_r)*np.dot(r*(np.dot(theta,x.T)-y),x) + (rg1/n_r)*theta\n",
    "        x = x - alpha*Grad_X\n",
    "        theta = theta - alpha*Grad_Theta\n",
    "        j = Cost(y, r, theta, x, rg1, rg2)\n",
    "        j_hist.append(j)\n",
    "        iter_n=iter_n+1\n",
    "        if iter_n==max_it :\n",
    "            print \"max_iter at limit\"\n",
    "            break\n",
    "    plt.plot(j_hist)\n",
    "    plt.ylabel(\"Fonction de cout\")\n",
    "    plt.xlabel(\"nb iterations\")\n",
    "    plt.show()\n",
    "    print \"n_iter = \" + repr(iter_n)\n",
    "    print \"coût à la convergence :\" + repr(j_hist[-1])\n",
    "    return [x,theta,iter_n,j_hist[-1]]"
   ]
  },
  {
   "cell_type": "code",
   "execution_count": null,
   "metadata": {
    "collapsed": true
   },
   "outputs": [],
   "source": [
    "# Choix du paramètre de régularisation pour X\n",
    "\n",
    "# Nombre de critères\n",
    "n_features = 40\n",
    "# Paramètre de régularisation pour Theta (on ne régularise pas pour l'instant)\n",
    "reg1 = 0.0\n",
    "# Paramètre de régularisation\n",
    "reg_values = [2.0,5.0,10.0,15.0,20.0,25.0,30.0,35.0]\n",
    "# Learning rate\n",
    "alpha = 300.0\n",
    "# Condition de convergence\n",
    "epsilon = 0.001\n",
    "# Nombre maximal d'itération\n",
    "max_iter = 200\n",
    "\n",
    "iter_nb = []\n",
    "J_train = []\n",
    "J_test = []\n",
    "for reg in reg_values :\n",
    "    X = np.random.randn(n_movies,n_features)\n",
    "    Theta = np.random.randn(n_users,n_features)\n",
    "    print \"reg = \" + repr(reg)\n",
    "    [X, Theta, a, b] = GradientDescent(Y_norm, R, Theta, X, alpha, reg, epsilon, max_iter) # Entrainement training set avec régularisation\n",
    "    iter_nb.append(a)\n",
    "    J_train.append(Cost(Y_norm, R, Theta, X, 0.0)) # Cout (sans les paramètres de régularisation)\n",
    "    J_test.append(Cost(Y_test_norm, R_test, Theta, X, 0.0)) # Evaluation du coût sur le test set (sans régularisation)\n",
    "    print \"-------------------------\""
   ]
  }
 ],
 "metadata": {
  "kernelspec": {
   "display_name": "Python 2",
   "language": "python",
   "name": "python2"
  },
  "language_info": {
   "codemirror_mode": {
    "name": "ipython",
    "version": 2
   },
   "file_extension": ".py",
   "mimetype": "text/x-python",
   "name": "python",
   "nbconvert_exporter": "python",
   "pygments_lexer": "ipython2",
   "version": "2.7.10"
  }
 },
 "nbformat": 4,
 "nbformat_minor": 0
}
